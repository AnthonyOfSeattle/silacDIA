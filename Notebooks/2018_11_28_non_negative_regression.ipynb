{
 "cells": [
  {
   "cell_type": "code",
   "execution_count": 2,
   "metadata": {},
   "outputs": [],
   "source": [
    "from sdia import *\n",
    "import numpy as np\n",
    "import scipy as sp\n",
    "import matplotlib.pyplot as plt"
   ]
  },
  {
   "cell_type": "markdown",
   "metadata": {},
   "source": [
    "### Notes"
   ]
  },
  {
   "cell_type": "markdown",
   "metadata": {},
   "source": [
    "This notebook will be devoted to trying out algorithms for non-negative regression on spectra. Most of the spectral processing will be a recapitulation of the analyze function from the SpectralAnalyzer class. I will keep all of that up front so that I can spend the bulk of the notebook on analysis functions."
   ]
  },
  {
   "cell_type": "markdown",
   "metadata": {},
   "source": [
    "### Spectral Loading"
   ]
  },
  {
   "cell_type": "code",
   "execution_count": 3,
   "metadata": {},
   "outputs": [],
   "source": [
    "filename = \"../Data/DIA_FULL/UWPROFL0362.mzML\"\n",
    "file = MzMLFile()\n",
    "exp = MSExperiment()\n",
    "file.load(filename, exp)"
   ]
  },
  {
   "cell_type": "code",
   "execution_count": 4,
   "metadata": {},
   "outputs": [],
   "source": [
    "spec = SpectralAnalyzer(lib_path=\"../Data/spectral_library/\",\n",
    "                        lib_name=\"filtered_silac_library_b&y\",\n",
    "                        ppm_tol=5., lam=1e8, is_silac=True)"
   ]
  },
  {
   "cell_type": "code",
   "execution_count": 5,
   "metadata": {},
   "outputs": [],
   "source": [
    "def get_frame_data(frame_ind):\n",
    "    frame = exp[frame_ind]\n",
    "    \n",
    "    # Extract spectra\n",
    "    mz, intensity = spec.extract_spectra(frame)\n",
    "        \n",
    "    # Filter libraries\n",
    "    retention_range = frame.getRT() + 60 * 5. * np.array([-1., 1.])\n",
    "    precursor = frame.getPrecursors()[0]\n",
    "    mass_range = precursor.getMZ() + precursor.getIsolationWindowLowerOffset() * np.array([-1. , 1.])\n",
    "    filtered_lib = spec.lib.get_range(retention_range, mass_range)\n",
    "    filtered_decoys = spec.decoys.get_range(retention_range, mass_range)\n",
    "        \n",
    "    # Filter peaks\n",
    "    filtered_lib, lib_bins = spec.bin_peaks(mz, filtered_lib)\n",
    "    filtered_decoys, decoy_bins = spec.bin_peaks(mz, filtered_decoys)\n",
    "        \n",
    "    if filtered_lib.shape[0] == 0:\n",
    "        return None, None\n",
    "        \n",
    "    # Build columns\n",
    "    if spec.is_silac:\n",
    "        idx = filtered_lib.isotope.values\n",
    "        decoy_idx = filtered_decoys.isotope.values\n",
    "    else:\n",
    "        idx = filtered_lib.index.values\n",
    "        decoy_idx = filtered_decoys.index.values\n",
    "            \n",
    "    unique_idx, first_idx = np.unique(idx, return_index=True)\n",
    "    unique_decoy_idx, decoy_first_idx = np.unique(decoy_idx, return_index=True)\n",
    "        \n",
    "    mapping_dict = {old: new for new, old in enumerate(unique_idx)}\n",
    "    col_idx = np.array([mapping_dict[ind] for ind in idx], dtype=np.int64)\n",
    "        \n",
    "    decoy_mapping_dict = {old: new for new, old in enumerate(unique_decoy_idx)}\n",
    "    offset = col_idx.max() + 1\n",
    "    decoy_col_idx = np.array([decoy_mapping_dict[ind] + offset for ind in decoy_idx], dtype=np.int64)\n",
    "        \n",
    "    concat_cols = np.concatenate([col_idx, decoy_col_idx])\n",
    "        \n",
    "    # Build rows\n",
    "    unique_bins = np.unique(np.concatenate([lib_bins, decoy_bins]))\n",
    "    mapping_dict = {old: new for new, old in enumerate(unique_bins)}\n",
    "\n",
    "    row_idx = np.array([mapping_dict[ind] for ind in lib_bins])\n",
    "    decoy_row_idx = np.array([mapping_dict[ind] for ind in decoy_bins], dtype=np.int64)\n",
    "        \n",
    "    concat_rows = np.concatenate([row_idx, decoy_row_idx])\n",
    "        \n",
    "    # Build matrices\n",
    "    sparse_library = csc_matrix((np.concatenate([filtered_lib.intensity.values.flatten(),\n",
    "                                                 filtered_decoys.intensity.values.flatten()]), \n",
    "                                 (concat_rows, concat_cols)),\n",
    "                                shape=(concat_rows.max() + 1, concat_cols.max() + 1))\n",
    "    regression_library = sparse_library.todense()\n",
    "    target = intensity[unique_bins]\n",
    "    \n",
    "    # Create groups\n",
    "    if spec.is_silac:\n",
    "        group_idx = filtered_lib.index.values[first_idx]\n",
    "        decoy_group_idx = filtered_decoys.index.values[decoy_first_idx]\n",
    "        \n",
    "        unique_group = np.unique(group_idx)\n",
    "        group_map = {old: new for new, old in enumerate(unique_group)}\n",
    "        groups = np.array([group_map[pep] for pep in group_idx], dtype=np.int64)\n",
    "        \n",
    "        unique_decoy_group = np.unique(decoy_group_idx)\n",
    "        offset = len(unique_group)\n",
    "        decoy_group_map = {old: new + offset for new, old in enumerate(unique_decoy_group)}\n",
    "        groups = np.concatenate([groups, \n",
    "                                 np.array([decoy_group_map[pep] for pep in decoy_group_idx], \n",
    "                                          dtype=np.int64)])\n",
    "        return regression_library, target, groups\n",
    "    \n",
    "    else:\n",
    "        return regression_library, target"
   ]
  },
  {
   "cell_type": "code",
   "execution_count": 6,
   "metadata": {},
   "outputs": [
    {
     "name": "stdout",
     "output_type": "stream",
     "text": [
      "CPU times: user 21 ms, sys: 2 ms, total: 23 ms\n",
      "Wall time: 22.4 ms\n"
     ]
    }
   ],
   "source": [
    "%%time\n",
    "X, y, g = get_frame_data(30060)"
   ]
  },
  {
   "cell_type": "markdown",
   "metadata": {},
   "source": [
    "### Implementation: Subgradient method"
   ]
  },
  {
   "cell_type": "markdown",
   "metadata": {},
   "source": [
    "The objective is given by the following,"
   ]
  },
  {
   "cell_type": "markdown",
   "metadata": {},
   "source": [
    "$$\n",
    "\\min_{\\beta \\in \\mathbb{R}^+} \\Big( \n",
    "\\| \\mathbf{y} - \\sum_{l=1}^L \\mathbf{X}_l \\beta_l \\|_2^2 +\n",
    "\\lambda_1 \\sum_{l=1}^L \\| \\beta_l \\|_2 +\n",
    "\\lambda_2 \\| \\beta \\|_1  \n",
    "\\Big)\n",
    "$$"
   ]
  },
  {
   "cell_type": "markdown",
   "metadata": {},
   "source": [
    "with the subgradients being given by,"
   ]
  },
  {
   "cell_type": "markdown",
   "metadata": {},
   "source": [
    "$$\n",
    "\\frac{\\partial}{\\partial \\beta_{l,j}} Objective =\n",
    "- \\textbf{X}_{l,j}^T (\\textbf{r} - \\textbf{X}_{l,j} \\beta_{l,j}) +\n",
    "\\lambda_1 s_{l,j} +\n",
    "\\lambda_2 t_{l,j} =\n",
    "0\n",
    "$$\n",
    "\n",
    "$$ s_{l,j} =  \n",
    "\\begin{cases} \n",
    "      \\frac{\\beta_{l,j}}{\\|\\beta\\|_2} & \\beta \\neq 0 \\\\\n",
    "      \\textbf{s} \\in \\mathbb{R}^k \\quad s.t. \\quad \n",
    "      \\| \\textbf{s} \\|_2 \\leq 1 & \\beta = 0\n",
    "   \\end{cases}\n",
    "\\quad \\quad\n",
    "t_{l,j} =  \n",
    "\\begin{cases} \n",
    "      sign(\\beta_{l,j}) & \\beta_{l,j} \\neq 0 \\\\\n",
    "      t_{l,j} \\in [-1, 1] & \\beta_{l,j} = 0\n",
    "   \\end{cases}\n",
    "$$"
   ]
  },
  {
   "cell_type": "markdown",
   "metadata": {},
   "source": [
    "The nice part about the group lasso part of the penalty is that it is only non-differentiable when the entirety of the group is zero. So, the subgradient method here will consist of a two part treatment,\n",
    "\n",
    "**Group Lasso Procedure**\n",
    "\n",
    "* When $\\beta_l > 0$, take the standard gradient of the objective\n",
    "\n",
    "* When $\\beta_l = 0$, take the gradient with respect to $\\beta_l$ of the square loss but allow the update to be given by,\n",
    "\n",
    "$$ \\frac{\\min \\{ \\| \\nabla_{\\beta_l} \\|_2 - \\lambda_1, 0 \\}}{\\| \\nabla_{\\beta_l} \\|_2} \\nabla_{\\beta_l}$$"
   ]
  },
  {
   "cell_type": "markdown",
   "metadata": {},
   "source": [
    "Basically, the intuition here is that we are only interested in updating $\\beta_l$ if it will not eventualy arrive back at 0. This is a legal subgradient at $\\beta_l = 0$ and so can be used."
   ]
  },
  {
   "cell_type": "markdown",
   "metadata": {},
   "source": [
    "**Sparse Group Lasso Procedure**\n",
    "\n",
    "* When $\\beta_{l,k} > 0$ for every peptide in the group, take the standard gradient of the objective\n",
    "\n",
    "* When individual $\\beta_{l,k} = 0$ take the gradient with respect to $\\beta_{l,k}$ of the square loss and the group penalty but allow the update to be given by,\n",
    "\n",
    "$$ \\frac{\\min \\{ | \\nabla_{\\beta_{l,k}} | - \\lambda_2, 0 \\}}{| \\nabla_{\\beta_{l,k}} |} \\nabla_{\\beta_{l,k}}$$\n",
    "\n",
    "* When $\\beta_l = 0$, take the gradient with respect to $\\beta_l$ of the square loss but allow the update to be given by a two step procedure,\n",
    "\n",
    "    1. $$  \\nabla_{\\beta_l}' = \n",
    "           \\frac{\\min \\{ \\| \\nabla_{\\beta_l} \\|_2 - \\lambda_1, 0 \\}}{\\| \\nabla_{\\beta_l} \\|_2} \\nabla_{\\beta_l}\n",
    "       $$\n",
    "    2. $$ \n",
    "          \\frac{\\min \\{ | \\nabla_{\\beta_{l},k}' | - \\lambda_2, 0 \\}}{| \\nabla_{\\beta_{l},k}'  |} \\nabla_{\\beta_{l},k}'\n",
    "       $$\n",
    "       \n",
    "The two step procedure gives the group penalty the ability to act first, but gives a second penalty on to the components of any group which passes the threshold."
   ]
  },
  {
   "cell_type": "code",
   "execution_count": 7,
   "metadata": {},
   "outputs": [],
   "source": [
    "class GradGL:\n",
    "    def __init__(self, l2_penalty, step_size=5e-10, max_iter=100):\n",
    "\n",
    "        self.l2_penalty = l2_penalty\n",
    "        self.step_size = step_size\n",
    "        self.max_iter = max_iter\n",
    "        self.X_ = None\n",
    "        self.y_ = None\n",
    "        self.group_map_ = None\n",
    "        self.coef_ = None\n",
    "        self.loss_ = None\n",
    "        \n",
    "    def preprocess_groups(self, groups):\n",
    "        idx = np.arange(len(groups))\n",
    "        group_map = {g: idx[groups == g] for g in np.unique(groups)}\n",
    "        return group_map\n",
    "    \n",
    "    def calculate_loss(self):\n",
    "        loss = np.sum(np.power(self.y_ - np.matmul(self.X_, self.coef_), 2))\n",
    "        for g in self.groups_:\n",
    "            group_select = self.groups_[g]\n",
    "            group_size = len(group_select)\n",
    "            group_norm = np.linalg.norm(self.coef_[group_select])\n",
    "            loss += self.l2_penalty * np.sqrt(group_size) * group_norm\n",
    "            \n",
    "        return loss\n",
    "        \n",
    "    def fit(self, X, groups, y):\n",
    "        # Store groups\n",
    "        self.groups_ = self.preprocess_groups(groups)\n",
    "        \n",
    "        # Check X and y\n",
    "        self.X_, self.y_ = X, np.atleast_2d(y).T\n",
    "\n",
    "        # Set coefficients to zero\n",
    "        self.coef_ = 10 * np.abs(np.random.randn(self.X_.shape[1], 1)) #np.zeros([self.X_.shape[1], 1])\n",
    "        best_loss = np.inf\n",
    "        best_coef = None\n",
    "        tracker = 2\n",
    "        for i in range(self.max_iter):\n",
    "            cur_loss = self.calculate_loss()\n",
    "            if cur_loss < best_loss:\n",
    "                best_loss = cur_loss\n",
    "                best_coef = self.coef_.copy()\n",
    "                tracker = 2\n",
    "            else:\n",
    "                tracker -= 1\n",
    "                if tracker == 0:\n",
    "                    break\n",
    "            \n",
    "            loss_grad = -1. * np.matmul(X.T, (self.y_ - np.matmul(self.X_, self.coef_)))\n",
    "            \n",
    "            for g in self.groups_:\n",
    "                group_select = self.groups_[g]\n",
    "                group_size = len(group_select)\n",
    "                if np.any(self.coef_[group_select] > 0.):\n",
    "                    penalty_grad = self.coef_[self.groups_[g]] / np.linalg.norm(self.coef_[self.groups_[g]])\n",
    "                    loss_grad[group_select] += self.l2_penalty * np.sqrt(group_size) * penalty_grad\n",
    "                else:\n",
    "                    grad_norm = np.linalg.norm(loss_grad[group_select])\n",
    "                    grad_scale = max(grad_norm - self.l2_penalty * np.sqrt(group_size), 0.) / grad_norm\n",
    "                    loss_grad[group_select] = grad_scale * loss_grad[group_select]\n",
    "                    \n",
    "            self.coef_ -= self.step_size * loss_grad\n",
    "            self.coef_ = np.maximum(self.coef_, 0.)\n",
    "            \n",
    "        self.coef_ = best_coef.copy()\n",
    "        self.loss_ = best_loss\n",
    "        \n",
    "    def predict(self):\n",
    "        return np.matmul(self.X_, self.coef_) \n",
    "                              "
   ]
  },
  {
   "cell_type": "code",
   "execution_count": 8,
   "metadata": {
    "scrolled": false
   },
   "outputs": [
    {
     "name": "stdout",
     "output_type": "stream",
     "text": [
      "CPU times: user 144 ms, sys: 1 ms, total: 145 ms\n",
      "Wall time: 148 ms\n"
     ]
    }
   ],
   "source": [
    "%%time\n",
    "model = GradGL(l2_penalty=1e10, max_iter=1000, step_size=5e-10)\n",
    "model.fit(X, g, y)"
   ]
  },
  {
   "cell_type": "code",
   "execution_count": 9,
   "metadata": {},
   "outputs": [
    {
     "name": "stdout",
     "output_type": "stream",
     "text": [
      "0 [0.]\n",
      "1 [0.]\n",
      "2 [0.]\n",
      "3 [0.]\n",
      "3 [0.]\n",
      "4 [0.]\n",
      "5 [0.]\n",
      "6 [0.]\n",
      "6 [0.]\n",
      "7 [0.]\n",
      "8 [0.]\n",
      "9 [0.]\n",
      "9 [0.]\n",
      "10 [0.]\n",
      "11 [0.]\n",
      "12 [0.]\n",
      "13 [0.]\n",
      "14 [0.]\n",
      "15 [0.]\n",
      "16 [0.]\n",
      "16 [0.]\n",
      "17 [0.]\n",
      "18 [0.]\n",
      "18 [0.]\n",
      "19 [0.]\n",
      "20 [313.6376919]\n",
      "20 [297.53250139]\n",
      "21 [0.]\n",
      "22 [0.]\n",
      "22 [0.]\n",
      "23 [0.]\n",
      "24 [0.]\n",
      "25 [0.]\n",
      "26 [0.]\n",
      "26 [0.]\n",
      "27 [0.]\n",
      "28 [0.]\n",
      "29 [0.]\n",
      "29 [0.]\n",
      "30 [58.24439465]\n",
      "30 [0.]\n",
      "31 [0.]\n",
      "31 [0.]\n",
      "32 [0.]\n",
      "33 [0.]\n"
     ]
    }
   ],
   "source": [
    "for i in range(len(g)):\n",
    "    print(g[i], model.coef_[i])"
   ]
  },
  {
   "cell_type": "code",
   "execution_count": 10,
   "metadata": {},
   "outputs": [
    {
     "name": "stdout",
     "output_type": "stream",
     "text": [
      "(175, 1)\n"
     ]
    },
    {
     "data": {
      "image/png": "[encoded data removed]",
      "text/plain": [
       "<Figure size 1080x720 with 1 Axes>"
      ]
     },
     "metadata": {
      "needs_background": "light"
     },
     "output_type": "display_data"
    }
   ],
   "source": [
    "plt.figure(figsize=(15, 10))\n",
    "true_y = model.y_.flatten()\n",
    "plt.stem(np.arange(len(true_y)), true_y, \n",
    "        markerfmt=\" \",  linefmt=\"black\")\n",
    "\n",
    "pred_y = -model.predict()[:, 0]\n",
    "print(pred_y.shape)\n",
    "plt.stem(np.arange(len(pred_y)), pred_y, \n",
    "        markerfmt=\" \",  linefmt=\"blue\")\n",
    "plt.show()"
   ]
  },
  {
   "cell_type": "code",
   "execution_count": 156,
   "metadata": {},
   "outputs": [],
   "source": [
    "class GradSGL:\n",
    "    def __init__(self, l2_penalty, l1_penalty, step_size=5e-10, max_iter=100):\n",
    "\n",
    "        self.l2_penalty = l2_penalty\n",
    "        self.l1_penalty = l1_penalty\n",
    "        self.step_size = step_size\n",
    "        self.max_iter = max_iter\n",
    "        self.X_ = None\n",
    "        self.y_ = None\n",
    "        self.group_map_ = None\n",
    "        self.coef_ = None\n",
    "        self.loss_ = None\n",
    "        \n",
    "    def preprocess_groups(self, groups):\n",
    "        idx = np.arange(len(groups))\n",
    "        group_map = {g: idx[groups == g] for g in np.unique(groups)}\n",
    "        return group_map\n",
    "    \n",
    "    def calculate_loss(self):\n",
    "        loss = np.sum(np.power(self.y_ - np.matmul(self.X_, self.coef_), 2))\n",
    "        for g in self.groups_:\n",
    "            group_select = self.groups_[g]\n",
    "            group_size = len(group_select)\n",
    "            group_norm = np.linalg.norm(self.coef_[group_select])\n",
    "            loss += self.l2_penalty * np.sqrt(group_size) * group_norm\n",
    "        loss += self.l1_penalty * np.sum(self.coef_)\n",
    "            \n",
    "        return loss\n",
    "        \n",
    "    def fit(self, X, groups, y):\n",
    "        # Store groups\n",
    "        self.groups_ = self.preprocess_groups(groups)\n",
    "        \n",
    "        # Check X and y\n",
    "        self.X_, self.y_ = X, np.atleast_2d(y).T\n",
    "\n",
    "        # Set coefficients to zero\n",
    "        self.coef_ = 10 * np.abs(np.random.randn(self.X_.shape[1], 1)) #np.zeros([self.X_.shape[1], 1])\n",
    "        best_loss = np.inf\n",
    "        best_coef = None\n",
    "        tracker = 2\n",
    "        for i in range(self.max_iter):\n",
    "            cur_loss = self.calculate_loss()\n",
    "            if cur_loss < best_loss:\n",
    "                best_loss = cur_loss\n",
    "                best_coef = self.coef_.copy()\n",
    "                tracker = 2\n",
    "            else:\n",
    "                tracker -= 1\n",
    "                if tracker == 0:\n",
    "                    break\n",
    "            \n",
    "            loss_grad = -1. * np.matmul(X.T, (self.y_ - np.matmul(self.X_, self.coef_)))\n",
    "            \n",
    "            for g in self.groups_:\n",
    "                group_select = self.groups_[g]\n",
    "                group_size = len(group_select)\n",
    "                if np.any(self.coef_[group_select] > 0.):\n",
    "                    penalty_grad = self.coef_[self.groups_[g]] / np.linalg.norm(self.coef_[self.groups_[g]])\n",
    "                    loss_grad[group_select] += self.l2_penalty * np.sqrt(group_size) * penalty_grad\n",
    "                else:\n",
    "                    grad_norm = np.linalg.norm(loss_grad[group_select])\n",
    "                    grad_scale = max(grad_norm - self.l2_penalty * np.sqrt(group_size), 0.) / grad_norm\n",
    "                    loss_grad[group_select] = grad_scale * loss_grad[group_select]\n",
    "            \n",
    "            # l1 penalty\n",
    "            coef_zero = self.coef_ == 0\n",
    "            grad_zero = loss_grad == 0\n",
    "            defined = np.array(np.logical_and(~coef_zero, ~grad_zero)).flatten()\n",
    "            if np.any(defined):\n",
    "                signs = np.sign(self.coef_[defined])\n",
    "                loss_grad[defined] += signs * self.l1_penalty\n",
    "                \n",
    "            undefined = np.array(np.logical_and(coef_zero, ~grad_zero)).flatten()\n",
    "            if np.any(undefined):\n",
    "                zero_pos = np.array(loss_grad[undefined])\n",
    "                scale = np.maximum(np.abs(zero_pos) - self.l1_penalty, 0.) / np.abs(zero_pos)\n",
    "                loss_grad[undefined] = scale * zero_pos\n",
    "                    \n",
    "            self.coef_ -= self.step_size * loss_grad\n",
    "            self.coef_ = np.maximum(self.coef_, 0.)\n",
    "            \n",
    "        self.coef_ = best_coef.copy()\n",
    "        self.loss_ = best_loss\n",
    "        \n",
    "    def predict(self):\n",
    "        return np.matmul(self.X_, self.coef_) "
   ]
  },
  {
   "cell_type": "code",
   "execution_count": 165,
   "metadata": {},
   "outputs": [
    {
     "name": "stdout",
     "output_type": "stream",
     "text": [
      "CPU times: user 901 ms, sys: 2 ms, total: 903 ms\n",
      "Wall time: 909 ms\n"
     ]
    }
   ],
   "source": [
    "%%time\n",
    "model = GradSGL(l2_penalty=1e10, l1_penalty=1e10, max_iter=1000, step_size=5e-10)\n",
    "model.fit(X, g, y)"
   ]
  },
  {
   "cell_type": "code",
   "execution_count": 166,
   "metadata": {},
   "outputs": [
    {
     "name": "stdout",
     "output_type": "stream",
     "text": [
      "0 [0.]\n",
      "1 [0.]\n",
      "2 [0.]\n",
      "3 [0.]\n",
      "3 [0.]\n",
      "4 [0.]\n",
      "5 [0.]\n",
      "6 [0.]\n",
      "6 [0.]\n",
      "7 [0.]\n",
      "8 [0.]\n",
      "9 [0.]\n",
      "9 [0.]\n",
      "10 [0.]\n",
      "11 [0.]\n",
      "12 [0.]\n",
      "13 [0.]\n",
      "14 [0.]\n",
      "15 [0.]\n",
      "16 [0.]\n",
      "16 [0.]\n",
      "17 [0.]\n",
      "18 [0.]\n",
      "18 [0.]\n",
      "19 [0.]\n",
      "20 [301.63990363]\n",
      "20 [269.22419677]\n",
      "21 [0.]\n",
      "22 [0.]\n",
      "22 [0.]\n",
      "23 [0.]\n",
      "24 [0.]\n",
      "25 [0.]\n",
      "26 [0.]\n",
      "26 [0.]\n",
      "27 [0.]\n",
      "28 [0.]\n",
      "29 [0.]\n",
      "29 [0.]\n",
      "30 [0.]\n",
      "30 [0.]\n",
      "31 [0.]\n",
      "31 [0.]\n",
      "32 [0.]\n",
      "33 [0.]\n"
     ]
    }
   ],
   "source": [
    "for i in range(len(g)):\n",
    "    print(g[i], model.coef_[i])"
   ]
  },
  {
   "cell_type": "code",
   "execution_count": null,
   "metadata": {},
   "outputs": [],
   "source": []
  }
 ],
 "metadata": {
  "kernelspec": {
   "display_name": "Python 3",
   "language": "python",
   "name": "python3"
  },
  "language_info": {
   "codemirror_mode": {
    "name": "ipython",
    "version": 3
   },
   "file_extension": ".py",
   "mimetype": "text/x-python",
   "name": "python",
   "nbconvert_exporter": "python",
   "pygments_lexer": "ipython3",
   "version": "3.6.6"
  }
 },
 "nbformat": 4,
 "nbformat_minor": 2
}
