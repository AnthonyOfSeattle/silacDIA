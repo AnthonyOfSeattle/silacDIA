{
 "cells": [
  {
   "cell_type": "markdown",
   "metadata": {},
   "source": [
    "## Analysis of the reproducibility of y-ion intensities"
   ]
  },
  {
   "cell_type": "markdown",
   "metadata": {},
   "source": [
    "### Notes"
   ]
  },
  {
   "cell_type": "markdown",
   "metadata": {},
   "source": [
    "As it stands, we only have measured spectra for ~5000 silace pairs. This is only a quarter of the ~20000 unique peptides measured accross the silace runs. This means, no matter what type of analysis we do, we may need to impute what the y-ions look like for the other isotope. Here, I will analyze how reproducible these measurements are in the pairs that we have measured, which will justify the imputations."
   ]
  },
  {
   "cell_type": "code",
   "execution_count": 95,
   "metadata": {},
   "outputs": [],
   "source": [
    "from sdia import *\n",
    "import numpy as np\n",
    "import scipy as sp\n",
    "import matplotlib.pyplot as plt"
   ]
  },
  {
   "cell_type": "code",
   "execution_count": 137,
   "metadata": {},
   "outputs": [],
   "source": [
    "slib = SpectralLibrary.from_csv(\"../Data/spectral_library/filtered_silac_library\", is_silac=True)\n",
    "slib.library = slib.library.drop_duplicates(subset=[\"isotope\", \"name\"], keep=False)"
   ]
  },
  {
   "cell_type": "code",
   "execution_count": 138,
   "metadata": {},
   "outputs": [],
   "source": [
    "ion_intensities = slib.library.reset_index().set_index([\"peptide\", \"isotope\", \"name\"]).intensity"
   ]
  },
  {
   "cell_type": "code",
   "execution_count": 139,
   "metadata": {},
   "outputs": [
    {
     "data": {
      "text/plain": [
       "isotope              name  \n",
       "AAADALSDLEIK/2       y3          907.2\n",
       "                     y4         1725.5\n",
       "                     y4i         372.4\n",
       "                     y5         1513.1\n",
       "                     y5i         383.8\n",
       "                     y6        10000.0\n",
       "                     y6i        2811.6\n",
       "                     y7-18       197.8\n",
       "                     y7         7050.2\n",
       "                     y7i        2804.8\n",
       "                     y8         5496.2\n",
       "                     y8i        2236.3\n",
       "                     y9-18       278.3\n",
       "                     y9         6460.9\n",
       "                     y10-18      421.1\n",
       "                     y10        5783.7\n",
       "                     y11         458.0\n",
       "AAADALSDLEIK[136]/2  y3-18       604.2\n",
       "                     y3          787.5\n",
       "                     y4         1815.3\n",
       "                     y5         1622.2\n",
       "                     y6-18       235.4\n",
       "                     y6        10000.0\n",
       "                     y6i        2268.5\n",
       "                     y7         7201.5\n",
       "                     y8         5758.9\n",
       "                     y8i        1994.4\n",
       "                     y9         6687.5\n",
       "                     y9i        2671.4\n",
       "                     y10-18      480.5\n",
       "                     y10        5752.5\n",
       "                     y10i       2545.0\n",
       "                     y11         425.5\n",
       "Name: intensity, dtype: float64"
      ]
     },
     "execution_count": 139,
     "metadata": {},
     "output_type": "execute_result"
    }
   ],
   "source": [
    "ion_intensities.loc[\"AAADALSDLEIK/2\"]"
   ]
  },
  {
   "cell_type": "markdown",
   "metadata": {},
   "source": [
    "It's the fault of spectrast that there are multiple duplicates of peaks with \"i\" in the name above. It only differentiates between the monoisotopic peak and not. So I will continue this analysis with only the monoisotopic peaks to be safe."
   ]
  },
  {
   "cell_type": "code",
   "execution_count": 140,
   "metadata": {},
   "outputs": [],
   "source": [
    "contain_i = slib.library.name.str.contains(\"i\")\n",
    "ion_intensities = slib.library[~contain_i].reset_index().set_index([\"peptide\", \"isotope\", \"name\"]).intensity"
   ]
  },
  {
   "cell_type": "code",
   "execution_count": 141,
   "metadata": {},
   "outputs": [
    {
     "data": {
      "text/html": [
       "<div>\n",
       "<style scoped>\n",
       "    .dataframe tbody tr th:only-of-type {\n",
       "        vertical-align: middle;\n",
       "    }\n",
       "\n",
       "    .dataframe tbody tr th {\n",
       "        vertical-align: top;\n",
       "    }\n",
       "\n",
       "    .dataframe thead th {\n",
       "        text-align: right;\n",
       "    }\n",
       "</style>\n",
       "<table border=\"1\" class=\"dataframe\">\n",
       "  <thead>\n",
       "    <tr style=\"text-align: right;\">\n",
       "      <th>isotope</th>\n",
       "      <th>AAADALSDLEIK/2</th>\n",
       "      <th>AAADALSDLEIK[136]/2</th>\n",
       "    </tr>\n",
       "    <tr>\n",
       "      <th>name</th>\n",
       "      <th></th>\n",
       "      <th></th>\n",
       "    </tr>\n",
       "  </thead>\n",
       "  <tbody>\n",
       "    <tr>\n",
       "      <th>y3</th>\n",
       "      <td>907.2</td>\n",
       "      <td>787.5</td>\n",
       "    </tr>\n",
       "    <tr>\n",
       "      <th>y4</th>\n",
       "      <td>1725.5</td>\n",
       "      <td>1815.3</td>\n",
       "    </tr>\n",
       "    <tr>\n",
       "      <th>y5</th>\n",
       "      <td>1513.1</td>\n",
       "      <td>1622.2</td>\n",
       "    </tr>\n",
       "    <tr>\n",
       "      <th>y6</th>\n",
       "      <td>10000.0</td>\n",
       "      <td>10000.0</td>\n",
       "    </tr>\n",
       "    <tr>\n",
       "      <th>y7-18</th>\n",
       "      <td>197.8</td>\n",
       "      <td>NaN</td>\n",
       "    </tr>\n",
       "    <tr>\n",
       "      <th>y7</th>\n",
       "      <td>7050.2</td>\n",
       "      <td>7201.5</td>\n",
       "    </tr>\n",
       "    <tr>\n",
       "      <th>y8</th>\n",
       "      <td>5496.2</td>\n",
       "      <td>5758.9</td>\n",
       "    </tr>\n",
       "    <tr>\n",
       "      <th>y9-18</th>\n",
       "      <td>278.3</td>\n",
       "      <td>NaN</td>\n",
       "    </tr>\n",
       "    <tr>\n",
       "      <th>y9</th>\n",
       "      <td>6460.9</td>\n",
       "      <td>6687.5</td>\n",
       "    </tr>\n",
       "    <tr>\n",
       "      <th>y10-18</th>\n",
       "      <td>421.1</td>\n",
       "      <td>480.5</td>\n",
       "    </tr>\n",
       "    <tr>\n",
       "      <th>y10</th>\n",
       "      <td>5783.7</td>\n",
       "      <td>5752.5</td>\n",
       "    </tr>\n",
       "    <tr>\n",
       "      <th>y11</th>\n",
       "      <td>458.0</td>\n",
       "      <td>425.5</td>\n",
       "    </tr>\n",
       "    <tr>\n",
       "      <th>y3-18</th>\n",
       "      <td>NaN</td>\n",
       "      <td>604.2</td>\n",
       "    </tr>\n",
       "    <tr>\n",
       "      <th>y6-18</th>\n",
       "      <td>NaN</td>\n",
       "      <td>235.4</td>\n",
       "    </tr>\n",
       "  </tbody>\n",
       "</table>\n",
       "</div>"
      ],
      "text/plain": [
       "isotope  AAADALSDLEIK/2  AAADALSDLEIK[136]/2\n",
       "name                                        \n",
       "y3                907.2                787.5\n",
       "y4               1725.5               1815.3\n",
       "y5               1513.1               1622.2\n",
       "y6              10000.0              10000.0\n",
       "y7-18             197.8                  NaN\n",
       "y7               7050.2               7201.5\n",
       "y8               5496.2               5758.9\n",
       "y9-18             278.3                  NaN\n",
       "y9               6460.9               6687.5\n",
       "y10-18            421.1                480.5\n",
       "y10              5783.7               5752.5\n",
       "y11               458.0                425.5\n",
       "y3-18               NaN                604.2\n",
       "y6-18               NaN                235.4"
      ]
     },
     "execution_count": 141,
     "metadata": {},
     "output_type": "execute_result"
    }
   ],
   "source": [
    "first_spectra = ion_intensities.loc[\"AAADALSDLEIK/2\"].unstack(\"isotope\")\n",
    "first_spectra"
   ]
  },
  {
   "cell_type": "code",
   "execution_count": 142,
   "metadata": {},
   "outputs": [
    {
     "data": {
      "text/plain": [
       "<matplotlib.collections.PathCollection at 0x2ae096e252e8>"
      ]
     },
     "execution_count": 142,
     "metadata": {},
     "output_type": "execute_result"
    },
    {
     "data": {
      "image/png": "[encoded data removed]",
      "text/plain": [
       "<Figure size 432x288 with 1 Axes>"
      ]
     },
     "metadata": {
      "needs_background": "light"
     },
     "output_type": "display_data"
    }
   ],
   "source": [
    "plt.scatter(first_spectra.iloc[:,0], first_spectra.iloc[:,1])"
   ]
  },
  {
   "cell_type": "code",
   "execution_count": 143,
   "metadata": {},
   "outputs": [],
   "source": [
    "def rank_corr(df):\n",
    "    try:\n",
    "        return df.unstack(\"isotope\").corr(\"spearman\").iloc[0,1]\n",
    "    except:\n",
    "        return None"
   ]
  },
  {
   "cell_type": "code",
   "execution_count": 144,
   "metadata": {},
   "outputs": [],
   "source": [
    "corr = ion_intensities.groupby(\"peptide\").apply(rank_corr)"
   ]
  },
  {
   "cell_type": "code",
   "execution_count": 148,
   "metadata": {},
   "outputs": [
    {
     "data": {
      "text/plain": [
       "<matplotlib.collections.PathCollection at 0x2ae09f6e27f0>"
      ]
     },
     "execution_count": 148,
     "metadata": {},
     "output_type": "execute_result"
    },
    {
     "data": {
      "image/png": "[encoded data removed]",
      "text/plain": [
       "<Figure size 720x720 with 1 Axes>"
      ]
     },
     "metadata": {
      "needs_background": "light"
     },
     "output_type": "display_data"
    }
   ],
   "source": [
    "plt.figure(figsize=(10, 10))\n",
    "plt.scatter(np.random.randn(corr.shape[0]), corr.values.flatten(),\n",
    "            c = \"black\")"
   ]
  },
  {
   "cell_type": "code",
   "execution_count": 149,
   "metadata": {},
   "outputs": [
    {
     "data": {
      "text/plain": [
       "(9795,)"
      ]
     },
     "execution_count": 149,
     "metadata": {},
     "output_type": "execute_result"
    }
   ],
   "source": [
    "corr.shape"
   ]
  },
  {
   "cell_type": "code",
   "execution_count": null,
   "metadata": {},
   "outputs": [],
   "source": []
  }
 ],
 "metadata": {
  "kernelspec": {
   "display_name": "Python 3",
   "language": "python",
   "name": "python3"
  },
  "language_info": {
   "codemirror_mode": {
    "name": "ipython",
    "version": 3
   },
   "file_extension": ".py",
   "mimetype": "text/x-python",
   "name": "python",
   "nbconvert_exporter": "python",
   "pygments_lexer": "ipython3",
   "version": "3.6.6"
  }
 },
 "nbformat": 4,
 "nbformat_minor": 2
}
